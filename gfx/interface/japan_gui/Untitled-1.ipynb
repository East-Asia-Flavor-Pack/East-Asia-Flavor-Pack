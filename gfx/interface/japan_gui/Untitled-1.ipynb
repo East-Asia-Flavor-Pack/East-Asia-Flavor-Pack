{
 "cells": [
  {
   "cell_type": "code",
   "execution_count": 2,
   "metadata": {},
   "outputs": [
    {
     "name": "stdout",
     "output_type": "stream",
     "text": [
      "텍스트 파일 생성 완료!\n"
     ]
    }
   ],
   "source": [
    "import os\n",
    "\n",
    "# 이미지 파일이 있는 폴더 경로 지정\n",
    "folder_path = \"kamon\"\n",
    "\n",
    "# 텍스트 파일 경로 지정\n",
    "output_file = \"output.txt\"\n",
    "\n",
    "# 텍스트 파일 열기 (쓰기 모드)\n",
    "with open(output_file, \"w\") as file:\n",
    "    # 폴더 내의 모든 파일 탐색\n",
    "    for filename in os.listdir(folder_path):\n",
    "        # 파일 이름이 \"32_\"로 시작하는 경우에만 처리\n",
    "        if filename.startswith(\"32_\") and filename.endswith((\".png\", \".jpg\", \".jpeg\")):\n",
    "            # 파일 이름에서 확장자 제거\n",
    "            icon_name = os.path.splitext(filename)[0]\n",
    "            # \"32_\" 제거\n",
    "            icon_name = icon_name[3:]\n",
    "            \n",
    "            # 텍스트 파일에 원하는 형식으로 기록\n",
    "            file.write(f\"texticon = {{\\n\")\n",
    "            file.write(f\"  icon = {icon_name}\\n\")\n",
    "            file.write(f\"  iconsize = {{\\n\")\n",
    "            file.write(f\"    offset = {{ 2 2 }}\\n\")\n",
    "            file.write(f\"    size = {{ 32 32 }}\\n\")\n",
    "            file.write(f\"    texture = \\\"gfx/interface/japan_gui/kamon/{filename}\\\"\\n\")\n",
    "            file.write(f\"    fontsize = 25\\n\")\n",
    "            file.write(f\"  }}\\n\")\n",
    "            file.write(f\"}}\\n\\n\")\n",
    "\n",
    "print(\"텍스트 파일 생성 완료!\")"
   ]
  }
 ],
 "metadata": {
  "kernelspec": {
   "display_name": "Python 3",
   "language": "python",
   "name": "python3"
  },
  "language_info": {
   "codemirror_mode": {
    "name": "ipython",
    "version": 3
   },
   "file_extension": ".py",
   "mimetype": "text/x-python",
   "name": "python",
   "nbconvert_exporter": "python",
   "pygments_lexer": "ipython3",
   "version": "3.10.9"
  }
 },
 "nbformat": 4,
 "nbformat_minor": 2
}
